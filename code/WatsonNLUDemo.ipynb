{
 "cells": [
  {
   "cell_type": "markdown",
   "id": "1f340fe9",
   "metadata": {},
   "source": [
    "Last updated: Feb 24 by ivanp@us.ibm.com"
   ]
  },
  {
   "cell_type": "code",
   "execution_count": 2,
   "id": "5033b6e5",
   "metadata": {},
   "outputs": [
    {
     "name": "stdout",
     "output_type": "stream",
     "text": [
      "Requirement already satisfied: ibm-watson in /Users/ivanp/opt/anaconda3/lib/python3.9/site-packages (5.3.1)\n",
      "Requirement already satisfied: python-dateutil>=2.5.3 in /Users/ivanp/opt/anaconda3/lib/python3.9/site-packages (from ibm-watson) (2.8.2)\n",
      "Requirement already satisfied: ibm-cloud-sdk-core==3.*,>=3.3.6 in /Users/ivanp/opt/anaconda3/lib/python3.9/site-packages (from ibm-watson) (3.14.0)\n",
      "Requirement already satisfied: websocket-client==1.1.0 in /Users/ivanp/opt/anaconda3/lib/python3.9/site-packages (from ibm-watson) (1.1.0)\n",
      "Requirement already satisfied: requests<3.0,>=2.0 in /Users/ivanp/opt/anaconda3/lib/python3.9/site-packages (from ibm-watson) (2.26.0)\n",
      "Requirement already satisfied: urllib3<2.0.0,>=1.26.0 in /Users/ivanp/opt/anaconda3/lib/python3.9/site-packages (from ibm-cloud-sdk-core==3.*,>=3.3.6->ibm-watson) (1.26.7)\n",
      "Requirement already satisfied: PyJWT<3.0.0,>=2.0.1 in /Users/ivanp/opt/anaconda3/lib/python3.9/site-packages (from ibm-cloud-sdk-core==3.*,>=3.3.6->ibm-watson) (2.1.0)\n",
      "Requirement already satisfied: six>=1.5 in /Users/ivanp/opt/anaconda3/lib/python3.9/site-packages (from python-dateutil>=2.5.3->ibm-watson) (1.16.0)\n",
      "Requirement already satisfied: charset-normalizer~=2.0.0 in /Users/ivanp/opt/anaconda3/lib/python3.9/site-packages (from requests<3.0,>=2.0->ibm-watson) (2.0.4)\n",
      "Requirement already satisfied: idna<4,>=2.5 in /Users/ivanp/opt/anaconda3/lib/python3.9/site-packages (from requests<3.0,>=2.0->ibm-watson) (3.2)\n",
      "Requirement already satisfied: certifi>=2017.4.17 in /Users/ivanp/opt/anaconda3/lib/python3.9/site-packages (from requests<3.0,>=2.0->ibm-watson) (2021.10.8)\n",
      "Note: you may need to restart the kernel to use updated packages.\n"
     ]
    }
   ],
   "source": [
    "pip install ibm-watson"
   ]
  },
  {
   "cell_type": "code",
   "execution_count": 5,
   "id": "a7861615",
   "metadata": {},
   "outputs": [],
   "source": [
    "from ibm_watson import NaturalLanguageUnderstandingV1\n",
    "from ibm_cloud_sdk_core.authenticators import IAMAuthenticator\n",
    "from ibm_watson.natural_language_understanding_v1 import Features, EntitiesOptions, CategoriesOptions, KeywordsOptions, SentimentOptions"
   ]
  },
  {
   "cell_type": "code",
   "execution_count": 4,
   "id": "82fb810d",
   "metadata": {},
   "outputs": [],
   "source": [
    "#pip3 install pandas\n",
    "import pandas as pd\n",
    "import json\n"
   ]
  },
  {
   "cell_type": "code",
   "execution_count": 7,
   "id": "338c27f2",
   "metadata": {},
   "outputs": [
    {
     "name": "stdout",
     "output_type": "stream",
     "text": [
      "Number of rows in ibm-blogs file:  21\n"
     ]
    },
    {
     "data": {
      "text/html": [
       "<div>\n",
       "<style scoped>\n",
       "    .dataframe tbody tr th:only-of-type {\n",
       "        vertical-align: middle;\n",
       "    }\n",
       "\n",
       "    .dataframe tbody tr th {\n",
       "        vertical-align: top;\n",
       "    }\n",
       "\n",
       "    .dataframe thead th {\n",
       "        text-align: right;\n",
       "    }\n",
       "</style>\n",
       "<table border=\"1\" class=\"dataframe\">\n",
       "  <thead>\n",
       "    <tr style=\"text-align: right;\">\n",
       "      <th></th>\n",
       "      <th>id</th>\n",
       "      <th>title</th>\n",
       "      <th>link</th>\n",
       "      <th>date</th>\n",
       "    </tr>\n",
       "  </thead>\n",
       "  <tbody>\n",
       "    <tr>\n",
       "      <th>0</th>\n",
       "      <td>1001</td>\n",
       "      <td>Cloud at the Edge</td>\n",
       "      <td>https://www.ibm.com/cloud/blog/cloud-at-the-edge</td>\n",
       "      <td>2/26/19</td>\n",
       "    </tr>\n",
       "    <tr>\n",
       "      <th>1</th>\n",
       "      <td>1002</td>\n",
       "      <td>Rounding out the Edges</td>\n",
       "      <td>https://www.ibm.com/cloud/blog/rounding-out-th...</td>\n",
       "      <td>5/7/19</td>\n",
       "    </tr>\n",
       "    <tr>\n",
       "      <th>2</th>\n",
       "      <td>1003</td>\n",
       "      <td>Architecting at the Edge</td>\n",
       "      <td>https://www.ibm.com/cloud/blog/architecting-at...</td>\n",
       "      <td>10/21/19</td>\n",
       "    </tr>\n",
       "    <tr>\n",
       "      <th>3</th>\n",
       "      <td>1004</td>\n",
       "      <td>DevOps at the Edge</td>\n",
       "      <td>https://www.ibm.com/cloud/blog/devops-at-the-edge</td>\n",
       "      <td>12/3/19</td>\n",
       "    </tr>\n",
       "    <tr>\n",
       "      <th>4</th>\n",
       "      <td>1005</td>\n",
       "      <td>Policies at the Edge</td>\n",
       "      <td>https://www.ibm.com/cloud/blog/policies-at-the...</td>\n",
       "      <td>1/22/20</td>\n",
       "    </tr>\n",
       "  </tbody>\n",
       "</table>\n",
       "</div>"
      ],
      "text/plain": [
       "     id                     title  \\\n",
       "0  1001         Cloud at the Edge   \n",
       "1  1002    Rounding out the Edges   \n",
       "2  1003  Architecting at the Edge   \n",
       "3  1004        DevOps at the Edge   \n",
       "4  1005      Policies at the Edge   \n",
       "\n",
       "                                                link      date  \n",
       "0   https://www.ibm.com/cloud/blog/cloud-at-the-edge   2/26/19  \n",
       "1  https://www.ibm.com/cloud/blog/rounding-out-th...    5/7/19  \n",
       "2  https://www.ibm.com/cloud/blog/architecting-at...  10/21/19  \n",
       "3  https://www.ibm.com/cloud/blog/devops-at-the-edge   12/3/19  \n",
       "4  https://www.ibm.com/cloud/blog/policies-at-the...   1/22/20  "
      ]
     },
     "execution_count": 7,
     "metadata": {},
     "output_type": "execute_result"
    }
   ],
   "source": [
    "#Load ibm-blogs.csv\n",
    "\n",
    "blogs_df = pd.read_csv(\"ibm-blogs.csv\")\n",
    "print(\"Number of rows in ibm-blogs file: \", blogs_df.shape[0])\n",
    "blogs_df.head()"
   ]
  },
  {
   "cell_type": "code",
   "execution_count": 9,
   "id": "078d10c6",
   "metadata": {},
   "outputs": [],
   "source": [
    "IAM_KEY = '{API_KEY}'\n",
    "SERVICE_URL = 'https://api.us-south.natural-language-understanding.watson.cloud.ibm.com/instances/{INSTANCE_ID}'"
   ]
  },
  {
   "cell_type": "code",
   "execution_count": 10,
   "id": "db1944a8",
   "metadata": {},
   "outputs": [],
   "source": [
    "authenticator = IAMAuthenticator(IAM_KEY)\n",
    "natural_language_understanding = NaturalLanguageUnderstandingV1(version='2020-08-01',authenticator=authenticator)\n",
    "\n",
    "natural_language_understanding.set_service_url(SERVICE_URL)"
   ]
  },
  {
   "cell_type": "code",
   "execution_count": 15,
   "id": "4b8e09ff",
   "metadata": {},
   "outputs": [],
   "source": [
    "def get_NLU_Response(link):\n",
    "    response = natural_language_understanding.analyze(\n",
    "    url = link,\n",
    "    #features=Features(categories=CategoriesOptions(limit=3))).get_result()\n",
    "    features=Features(entities=EntitiesOptions(sentiment=False,limit=3))).get_result()\n",
    "    \n",
    "    return response"
   ]
  },
  {
   "cell_type": "code",
   "execution_count": 12,
   "id": "382691f8",
   "metadata": {},
   "outputs": [],
   "source": [
    "response=get_NLU_Response(blogs_df['link'][0])"
   ]
  },
  {
   "cell_type": "code",
   "execution_count": 14,
   "id": "c691631f",
   "metadata": {},
   "outputs": [
    {
     "name": "stdout",
     "output_type": "stream",
     "text": [
      "{\n",
      "  \"usage\": {\n",
      "    \"text_units\": 1,\n",
      "    \"text_characters\": 4285,\n",
      "    \"features\": 1\n",
      "  },\n",
      "  \"retrieved_url\": \"https://www.ibm.com/cloud/blog/cloud-at-the-edge\",\n",
      "  \"language\": \"en\",\n",
      "  \"categories\": [\n",
      "    {\n",
      "      \"score\": 0.869217,\n",
      "      \"label\": \"/technology and computing\"\n",
      "    },\n",
      "    {\n",
      "      \"score\": 0.823215,\n",
      "      \"label\": \"/technology and computing/internet technology\"\n",
      "    },\n",
      "    {\n",
      "      \"score\": 0.80841,\n",
      "      \"label\": \"/technology and computing/networking/network monitoring and management\"\n",
      "    }\n",
      "  ]\n",
      "}\n"
     ]
    }
   ],
   "source": [
    "print(json.dumps(response, indent=2))"
   ]
  },
  {
   "cell_type": "code",
   "execution_count": 16,
   "id": "afe9de96",
   "metadata": {},
   "outputs": [],
   "source": [
    "response=get_NLU_Response(blogs_df['link'][1])"
   ]
  },
  {
   "cell_type": "code",
   "execution_count": 17,
   "id": "70f377f3",
   "metadata": {},
   "outputs": [
    {
     "name": "stdout",
     "output_type": "stream",
     "text": [
      "{\n",
      "  \"usage\": {\n",
      "    \"text_units\": 1,\n",
      "    \"text_characters\": 6652,\n",
      "    \"features\": 1\n",
      "  },\n",
      "  \"retrieved_url\": \"https://www.ibm.com/cloud/blog/rounding-out-the-edges\",\n",
      "  \"language\": \"en\",\n",
      "  \"entities\": [\n",
      "    {\n",
      "      \"type\": \"Company\",\n",
      "      \"text\": \"NFV\",\n",
      "      \"relevance\": 0.95577,\n",
      "      \"count\": 2,\n",
      "      \"confidence\": 0.557096\n",
      "    },\n",
      "    {\n",
      "      \"type\": \"Company\",\n",
      "      \"text\": \"Edge Cloud\",\n",
      "      \"relevance\": 0.720689,\n",
      "      \"count\": 1,\n",
      "      \"confidence\": 0.230761\n",
      "    },\n",
      "    {\n",
      "      \"type\": \"Company\",\n",
      "      \"text\": \"NaaS\",\n",
      "      \"relevance\": 0.425252,\n",
      "      \"count\": 1,\n",
      "      \"confidence\": 0.706887\n",
      "    }\n",
      "  ]\n",
      "}\n"
     ]
    }
   ],
   "source": [
    "print(json.dumps(response, indent=2))"
   ]
  },
  {
   "cell_type": "code",
   "execution_count": null,
   "id": "daff8e4c",
   "metadata": {},
   "outputs": [],
   "source": []
  }
 ],
 "metadata": {
  "kernelspec": {
   "display_name": "Python 3 (ipykernel)",
   "language": "python",
   "name": "python3"
  },
  "language_info": {
   "codemirror_mode": {
    "name": "ipython",
    "version": 3
   },
   "file_extension": ".py",
   "mimetype": "text/x-python",
   "name": "python",
   "nbconvert_exporter": "python",
   "pygments_lexer": "ipython3",
   "version": "3.9.7"
  }
 },
 "nbformat": 4,
 "nbformat_minor": 5
}
