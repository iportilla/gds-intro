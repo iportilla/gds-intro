{
 "cells": [
  {
   "cell_type": "markdown",
   "id": "18f3b4b5",
   "metadata": {},
   "source": [
    "# Last update: Feb 24 2022 by ivanp@us.ibm.com"
   ]
  },
  {
   "cell_type": "code",
   "execution_count": 1,
   "id": "68773bec",
   "metadata": {},
   "outputs": [],
   "source": [
    "#pip3 install pandas\n",
    "import pandas as pd\n",
    "\n",
    "from py2neo import Node\n",
    "from py2neo import Relationship\n",
    "from py2neo import Transaction\n",
    "from py2neo.database import Graph"
   ]
  },
  {
   "cell_type": "code",
   "execution_count": 2,
   "id": "0e5d34b9",
   "metadata": {},
   "outputs": [
    {
     "name": "stdout",
     "output_type": "stream",
     "text": [
      "Number of rows in ibm-blogs file:  21\n"
     ]
    },
    {
     "data": {
      "text/html": [
       "<div>\n",
       "<style scoped>\n",
       "    .dataframe tbody tr th:only-of-type {\n",
       "        vertical-align: middle;\n",
       "    }\n",
       "\n",
       "    .dataframe tbody tr th {\n",
       "        vertical-align: top;\n",
       "    }\n",
       "\n",
       "    .dataframe thead th {\n",
       "        text-align: right;\n",
       "    }\n",
       "</style>\n",
       "<table border=\"1\" class=\"dataframe\">\n",
       "  <thead>\n",
       "    <tr style=\"text-align: right;\">\n",
       "      <th></th>\n",
       "      <th>id</th>\n",
       "      <th>title</th>\n",
       "      <th>link</th>\n",
       "      <th>date</th>\n",
       "    </tr>\n",
       "  </thead>\n",
       "  <tbody>\n",
       "    <tr>\n",
       "      <th>0</th>\n",
       "      <td>1001</td>\n",
       "      <td>Cloud at the Edge</td>\n",
       "      <td>https://www.ibm.com/cloud/blog/cloud-at-the-edge</td>\n",
       "      <td>2/26/19</td>\n",
       "    </tr>\n",
       "    <tr>\n",
       "      <th>1</th>\n",
       "      <td>1002</td>\n",
       "      <td>Rounding out the Edges</td>\n",
       "      <td>https://www.ibm.com/cloud/blog/rounding-out-th...</td>\n",
       "      <td>5/7/19</td>\n",
       "    </tr>\n",
       "    <tr>\n",
       "      <th>2</th>\n",
       "      <td>1003</td>\n",
       "      <td>Architecting at the Edge</td>\n",
       "      <td>https://www.ibm.com/cloud/blog/architecting-at...</td>\n",
       "      <td>10/21/19</td>\n",
       "    </tr>\n",
       "    <tr>\n",
       "      <th>3</th>\n",
       "      <td>1004</td>\n",
       "      <td>DevOps at the Edge</td>\n",
       "      <td>https://www.ibm.com/cloud/blog/devops-at-the-edge</td>\n",
       "      <td>12/3/19</td>\n",
       "    </tr>\n",
       "    <tr>\n",
       "      <th>4</th>\n",
       "      <td>1005</td>\n",
       "      <td>Policies at the Edge</td>\n",
       "      <td>https://www.ibm.com/cloud/blog/policies-at-the...</td>\n",
       "      <td>1/22/20</td>\n",
       "    </tr>\n",
       "  </tbody>\n",
       "</table>\n",
       "</div>"
      ],
      "text/plain": [
       "     id                     title  \\\n",
       "0  1001         Cloud at the Edge   \n",
       "1  1002    Rounding out the Edges   \n",
       "2  1003  Architecting at the Edge   \n",
       "3  1004        DevOps at the Edge   \n",
       "4  1005      Policies at the Edge   \n",
       "\n",
       "                                                link      date  \n",
       "0   https://www.ibm.com/cloud/blog/cloud-at-the-edge   2/26/19  \n",
       "1  https://www.ibm.com/cloud/blog/rounding-out-th...    5/7/19  \n",
       "2  https://www.ibm.com/cloud/blog/architecting-at...  10/21/19  \n",
       "3  https://www.ibm.com/cloud/blog/devops-at-the-edge   12/3/19  \n",
       "4  https://www.ibm.com/cloud/blog/policies-at-the...   1/22/20  "
      ]
     },
     "execution_count": 2,
     "metadata": {},
     "output_type": "execute_result"
    }
   ],
   "source": [
    "#Load ibm-blogs.csv\n",
    "\n",
    "blogs_df = pd.read_csv(\"ibm-blogs.csv\")\n",
    "print(\"Number of rows in ibm-blogs file: \", blogs_df.shape[0])\n",
    "blogs_df.head()"
   ]
  },
  {
   "cell_type": "code",
   "execution_count": 4,
   "id": "1709667f",
   "metadata": {},
   "outputs": [
    {
     "data": {
      "text/html": [
       "<div>\n",
       "<style scoped>\n",
       "    .dataframe tbody tr th:only-of-type {\n",
       "        vertical-align: middle;\n",
       "    }\n",
       "\n",
       "    .dataframe tbody tr th {\n",
       "        vertical-align: top;\n",
       "    }\n",
       "\n",
       "    .dataframe thead th {\n",
       "        text-align: right;\n",
       "    }\n",
       "</style>\n",
       "<table border=\"1\" class=\"dataframe\">\n",
       "  <thead>\n",
       "    <tr style=\"text-align: right;\">\n",
       "      <th></th>\n",
       "      <th>title</th>\n",
       "      <th>link</th>\n",
       "      <th>date</th>\n",
       "    </tr>\n",
       "    <tr>\n",
       "      <th>id</th>\n",
       "      <th></th>\n",
       "      <th></th>\n",
       "      <th></th>\n",
       "    </tr>\n",
       "  </thead>\n",
       "  <tbody>\n",
       "    <tr>\n",
       "      <th>1001</th>\n",
       "      <td>Cloud at the Edge</td>\n",
       "      <td>https://www.ibm.com/cloud/blog/cloud-at-the-edge</td>\n",
       "      <td>2/26/19</td>\n",
       "    </tr>\n",
       "    <tr>\n",
       "      <th>1002</th>\n",
       "      <td>Rounding out the Edges</td>\n",
       "      <td>https://www.ibm.com/cloud/blog/rounding-out-th...</td>\n",
       "      <td>5/7/19</td>\n",
       "    </tr>\n",
       "    <tr>\n",
       "      <th>1003</th>\n",
       "      <td>Architecting at the Edge</td>\n",
       "      <td>https://www.ibm.com/cloud/blog/architecting-at...</td>\n",
       "      <td>10/21/19</td>\n",
       "    </tr>\n",
       "    <tr>\n",
       "      <th>1004</th>\n",
       "      <td>DevOps at the Edge</td>\n",
       "      <td>https://www.ibm.com/cloud/blog/devops-at-the-edge</td>\n",
       "      <td>12/3/19</td>\n",
       "    </tr>\n",
       "    <tr>\n",
       "      <th>1005</th>\n",
       "      <td>Policies at the Edge</td>\n",
       "      <td>https://www.ibm.com/cloud/blog/policies-at-the...</td>\n",
       "      <td>1/22/20</td>\n",
       "    </tr>\n",
       "  </tbody>\n",
       "</table>\n",
       "</div>"
      ],
      "text/plain": [
       "                         title  \\\n",
       "id                               \n",
       "1001         Cloud at the Edge   \n",
       "1002    Rounding out the Edges   \n",
       "1003  Architecting at the Edge   \n",
       "1004        DevOps at the Edge   \n",
       "1005      Policies at the Edge   \n",
       "\n",
       "                                                   link      date  \n",
       "id                                                                 \n",
       "1001   https://www.ibm.com/cloud/blog/cloud-at-the-edge   2/26/19  \n",
       "1002  https://www.ibm.com/cloud/blog/rounding-out-th...    5/7/19  \n",
       "1003  https://www.ibm.com/cloud/blog/architecting-at...  10/21/19  \n",
       "1004  https://www.ibm.com/cloud/blog/devops-at-the-edge   12/3/19  \n",
       "1005  https://www.ibm.com/cloud/blog/policies-at-the...   1/22/20  "
      ]
     },
     "execution_count": 4,
     "metadata": {},
     "output_type": "execute_result"
    }
   ],
   "source": [
    "id_df = blogs_df.set_index(blogs_df[\"id\"])\n",
    "id_df.drop(['id'], axis=1, inplace=True)\n",
    "id_df.head()"
   ]
  },
  {
   "cell_type": "code",
   "execution_count": 5,
   "id": "25f29b78",
   "metadata": {},
   "outputs": [
    {
     "name": "stdout",
     "output_type": "stream",
     "text": [
      "[1001, 1002, 1003, 1004, 1005, 1006, 1007, 1008, 1009, 1010, 1011, 1012, 1013, 1014, 1015, 1016, 1017, 1018, 1019, 1020, 1021]\n"
     ]
    }
   ],
   "source": [
    "nodes = sorted(list(blogs_df.id.unique()) )\n",
    "len(nodes)\n",
    "print(nodes)"
   ]
  },
  {
   "cell_type": "code",
   "execution_count": 6,
   "id": "3c1582f5",
   "metadata": {},
   "outputs": [
    {
     "name": "stdout",
     "output_type": "stream",
     "text": [
      "{1001: Node(':Article', article_id='1001', date='2/26/19', link='https://www.ibm.com/cloud/blog/cloud-at-the-edge', title='Cloud at the Edge'), 1002: Node(':Article', article_id='1002', date='5/7/19', link='https://www.ibm.com/cloud/blog/rounding-out-the-edges', title='Rounding out the Edges'), 1003: Node(':Article', article_id='1003', date='10/21/19', link='https://www.ibm.com/cloud/blog/architecting-at-the-edge', title='Architecting at the Edge'), 1004: Node(':Article', article_id='1004', date='12/3/19', link='https://www.ibm.com/cloud/blog/devops-at-the-edge', title='DevOps at the Edge'), 1005: Node(':Article', article_id='1005', date='1/22/20', link='https://www.ibm.com/cloud/blog/policies-at-the-edge', title='Policies at the Edge'), 1006: Node(':Article', article_id='1006', date='5/12/20', link='https://www.ibm.com/cloud/blog/security-at-the-edge', title='Security at the Edge'), 1007: Node(':Article', article_id='1007', date='6/8/20', link='https://www.ibm.com/cloud/blog/analytics-at-the-edge', title='Analytics at the Edge'), 1008: Node(':Article', article_id='1008', date='11/12/20', link='https://www.ibm.com/cloud/blog/5g-at-the-edge', title='5G at the Edge'), 1009: Node(':Article', article_id='1009', date='12/9/20', link='https://www.ibm.com/cloud/blog/clusters-at-the-edge', title='Clusters at the Edge'), 1010: Node(':Article', article_id='1010', date='2/18/21', link='https://www.ibm.com/cloud/blog/automation-at-the-edge', title='Automation at the Edge'), 1011: Node(':Article', article_id='1011', date='4/1/21', link='https://www.ibm.com/cloud/blog/network-slicing-at-the-edge', title='Network Slicing at the Edge'), 1012: Node(':Article', article_id='1012', date='6/4/21', link='https://www.ibm.com/cloud/blog/data-at-the-edge', title='Data at the Edge'), 1013: Node(':Article', article_id='1013', date='7/26/21', link='https://www.ibm.com/cloud/blog/architectural-decisions-at-the-edge', title='Architectural Decisions at the Edge'), 1014: Node(':Article', article_id='1014', date='11/2/21', link='https://www.ibm.com/cloud/blog/gitops-at-the-edge', title='GitOps at the Edge'), 1015: Node(':Article', article_id='1015', date='12/20/21', link='https://www.ibm.com/cloud/blog/cloud-services-at-the-edge', title='Cloud Services at the Edge'), 1016: Node(':Article', article_id='1016', date='1/20/22', link='https://www.ibm.com/cloud/blog/how-to-integrate-ibm-cloud-code-engine-with-ibm-git', title='How to Integrate IBM Cloud Code Engine with IBM Git'), 1017: Node(':Article', article_id='1017', date='1/18/22', link='https://www.ibm.com/cloud/blog/bandwidth-allocation-in-virtual-server-instances', title='Bandwidth Allocation in Virtual Server Instances'), 1018: Node(':Article', article_id='1018', date='1/10/22', link='https://www.ibm.com/cloud/blog/using-instance-metadata-and-trusted-profiles-for-managing-ssh-keys', title='Using Instance Metadata and Trusted Profiles for Managing SSH Keys'), 1019: Node(':Article', article_id='1019', date='1/6/22', link='https://www.ibm.com/cloud/blog/bpmn', title='The Basics of Business Process Modeling and Notation (BPMN)'), 1020: Node(':Article', article_id='1020', date='1/6/22', link='https://www.ibm.com/cloud/blog/truck-tracker-an-iot-pattern-using-ibm-cloud-services', title='Truck Tracker: An IoT Pattern Using IBM Cloud Services'), 1021: Node(':Article', article_id='1021', date='1/5/22', link='https://www.ibm.com/cloud/blog/optical-character-recognition', title='What Is Optical Character Recognition (OCR)?')}\n"
     ]
    }
   ],
   "source": [
    "def _node(an_id:str) -> Node:\n",
    "    return Node(\":Article\" , title=id_df.at[an_id,'title'],  article_id=str(an_id),\n",
    "                link=id_df.at[an_id,'link'], date=id_df.at[an_id,'date']\n",
    "                )\n",
    "\n",
    "d_nodes = dict((key, _node(key)) for (key) in nodes)\n",
    "print(d_nodes)"
   ]
  },
  {
   "cell_type": "code",
   "execution_count": 7,
   "id": "c572d139",
   "metadata": {},
   "outputs": [],
   "source": [
    "url = \"bolt://localhost:7687\"\n",
    "db = \"talk2\"\n",
    "pwd = \"{PASSWORD}\"\n",
    "\n",
    "neog = Graph(url, db, auth=('neo4j', pwd))"
   ]
  },
  {
   "cell_type": "code",
   "execution_count": 8,
   "id": "bfd07db6",
   "metadata": {},
   "outputs": [],
   "source": [
    "tx = neog.begin()\n",
    "neog.delete_all()\n",
    "neog.commit(tx) "
   ]
  },
  {
   "cell_type": "code",
   "execution_count": 9,
   "id": "a71e029f",
   "metadata": {},
   "outputs": [],
   "source": [
    "def countNodes():\n",
    "    query = \"MATCH (n) RETURN COUNT(n)\"\n",
    "    result = neog.query(query)\n",
    "    print(result)"
   ]
  },
  {
   "cell_type": "code",
   "execution_count": 13,
   "id": "7dd90f6c",
   "metadata": {},
   "outputs": [],
   "source": [
    "def createNodes(d_nodes:dict):\n",
    "    for node in d_nodes.values():\n",
    "        tx.create(node)\n",
    "    print (\"Neo4j nodes created\")"
   ]
  },
  {
   "cell_type": "code",
   "execution_count": 10,
   "id": "e20155a3",
   "metadata": {},
   "outputs": [],
   "source": [
    "# Creates a triple series with item1 - item2 - item3 as input\n",
    "\n",
    "def create_tpl(itemOne, itemTwo, itemThree):\n",
    "    tpl = []\n",
    "    tpl.append(itemOne)\n",
    "    tpl.append(itemTwo)\n",
    "    tpl.append(itemThree)\n",
    "    return tpl"
   ]
  },
  {
   "cell_type": "code",
   "execution_count": 18,
   "id": "e63aa249",
   "metadata": {},
   "outputs": [],
   "source": [
    "def get_unique(column):\n",
    "    \"\"\"\n",
    "    Get unique elements from a Pandas DF column\n",
    "    Arguments:\n",
    "        column: a DF column\n",
    "    Returns:\n",
    "        A node list with sorted, \n",
    "        unique elements of the DF column\n",
    "    \"\"\"\n",
    "    nodes = ()\n",
    "    nodes = sorted( list(column.unique() ) )\n",
    "    return nodes "
   ]
  },
  {
   "cell_type": "code",
   "execution_count": 11,
   "id": "590a30c3",
   "metadata": {},
   "outputs": [
    {
     "name": "stdout",
     "output_type": "stream",
     "text": [
      " COUNT(n) \r\n",
      "----------\r\n",
      "        0 \r\n",
      "\n"
     ]
    }
   ],
   "source": [
    "countNodes()"
   ]
  },
  {
   "cell_type": "code",
   "execution_count": 14,
   "id": "c7f00af1",
   "metadata": {},
   "outputs": [
    {
     "name": "stdout",
     "output_type": "stream",
     "text": [
      "Neo4j nodes created\n"
     ]
    }
   ],
   "source": [
    "#Create article nodes\n",
    "tx = neog.begin()\n",
    "createNodes(d_nodes)\n",
    "neog.commit(tx) "
   ]
  },
  {
   "cell_type": "code",
   "execution_count": 15,
   "id": "b50c8547",
   "metadata": {},
   "outputs": [
    {
     "name": "stdout",
     "output_type": "stream",
     "text": [
      " COUNT(n) \r\n",
      "----------\r\n",
      "       21 \r\n",
      "\n"
     ]
    }
   ],
   "source": [
    "countNodes()"
   ]
  },
  {
   "cell_type": "code",
   "execution_count": 16,
   "id": "8d78e597",
   "metadata": {},
   "outputs": [
    {
     "name": "stdout",
     "output_type": "stream",
     "text": [
      "                                                  URL  \\\n",
      "0    https://www.ibm.com/cloud/blog/cloud-at-the-edge   \n",
      "1    https://www.ibm.com/cloud/blog/cloud-at-the-edge   \n",
      "2    https://www.ibm.com/cloud/blog/cloud-at-the-edge   \n",
      "3   https://www.ibm.com/cloud/blog/rounding-out-th...   \n",
      "4   https://www.ibm.com/cloud/blog/rounding-out-th...   \n",
      "..                                                ...   \n",
      "56  https://www.ibm.com/cloud/blog/truck-tracker-a...   \n",
      "57  https://www.ibm.com/cloud/blog/truck-tracker-a...   \n",
      "58  https://www.ibm.com/cloud/blog/optical-charact...   \n",
      "59  https://www.ibm.com/cloud/blog/optical-charact...   \n",
      "60  https://www.ibm.com/cloud/blog/optical-charact...   \n",
      "\n",
      "                                                Label     Score  \n",
      "0                           /technology and computing  0.869217  \n",
      "1       /technology and computing/internet technology  0.823215  \n",
      "2   /technology and computing/networking/network m...  0.808410  \n",
      "3                  /technology and computing/hardware  0.834985  \n",
      "4         /technology and computing/operating systems  0.786255  \n",
      "..                                                ...       ...  \n",
      "56       /technology and computing/software/databases  0.869127  \n",
      "57  /technology and computing/hardware/computer/se...  0.801867  \n",
      "58        /technology and computing/hardware/computer  0.978824  \n",
      "59                 /technology and computing/software  0.931648  \n",
      "60  /technology and computing/hardware/computer co...  0.915361  \n",
      "\n",
      "[61 rows x 3 columns]\n"
     ]
    }
   ],
   "source": [
    "c_df = pd.read_csv ('final-categories.csv')\n",
    "print(c_df)"
   ]
  },
  {
   "cell_type": "code",
   "execution_count": 17,
   "id": "ef5e82d0",
   "metadata": {},
   "outputs": [
    {
     "name": "stdout",
     "output_type": "stream",
     "text": [
      "(155, 3)\n",
      "                                                    0  \\\n",
      "0    https://www.ibm.com/cloud/blog/cloud-at-the-edge   \n",
      "1    https://www.ibm.com/cloud/blog/cloud-at-the-edge   \n",
      "2    https://www.ibm.com/cloud/blog/cloud-at-the-edge   \n",
      "3    https://www.ibm.com/cloud/blog/cloud-at-the-edge   \n",
      "4    https://www.ibm.com/cloud/blog/cloud-at-the-edge   \n",
      "5    https://www.ibm.com/cloud/blog/cloud-at-the-edge   \n",
      "6   https://www.ibm.com/cloud/blog/rounding-out-th...   \n",
      "7   https://www.ibm.com/cloud/blog/rounding-out-th...   \n",
      "8   https://www.ibm.com/cloud/blog/rounding-out-th...   \n",
      "9   https://www.ibm.com/cloud/blog/rounding-out-th...   \n",
      "10  https://www.ibm.com/cloud/blog/rounding-out-th...   \n",
      "11  https://www.ibm.com/cloud/blog/rounding-out-th...   \n",
      "12  https://www.ibm.com/cloud/blog/rounding-out-th...   \n",
      "13  https://www.ibm.com/cloud/blog/architecting-at...   \n",
      "14  https://www.ibm.com/cloud/blog/architecting-at...   \n",
      "15  https://www.ibm.com/cloud/blog/architecting-at...   \n",
      "16  https://www.ibm.com/cloud/blog/architecting-at...   \n",
      "17  https://www.ibm.com/cloud/blog/architecting-at...   \n",
      "18  https://www.ibm.com/cloud/blog/architecting-at...   \n",
      "19  https://www.ibm.com/cloud/blog/architecting-at...   \n",
      "20  https://www.ibm.com/cloud/blog/devops-at-the-edge   \n",
      "21  https://www.ibm.com/cloud/blog/devops-at-the-edge   \n",
      "22  https://www.ibm.com/cloud/blog/devops-at-the-edge   \n",
      "23  https://www.ibm.com/cloud/blog/devops-at-the-edge   \n",
      "24  https://www.ibm.com/cloud/blog/devops-at-the-edge   \n",
      "25  https://www.ibm.com/cloud/blog/devops-at-the-edge   \n",
      "26  https://www.ibm.com/cloud/blog/devops-at-the-edge   \n",
      "27  https://www.ibm.com/cloud/blog/policies-at-the...   \n",
      "28  https://www.ibm.com/cloud/blog/policies-at-the...   \n",
      "29  https://www.ibm.com/cloud/blog/policies-at-the...   \n",
      "30  https://www.ibm.com/cloud/blog/policies-at-the...   \n",
      "31  https://www.ibm.com/cloud/blog/policies-at-the...   \n",
      "32  https://www.ibm.com/cloud/blog/policies-at-the...   \n",
      "33  https://www.ibm.com/cloud/blog/policies-at-the...   \n",
      "34  https://www.ibm.com/cloud/blog/security-at-the...   \n",
      "35  https://www.ibm.com/cloud/blog/security-at-the...   \n",
      "36  https://www.ibm.com/cloud/blog/security-at-the...   \n",
      "37  https://www.ibm.com/cloud/blog/security-at-the...   \n",
      "38  https://www.ibm.com/cloud/blog/security-at-the...   \n",
      "39  https://www.ibm.com/cloud/blog/security-at-the...   \n",
      "40  https://www.ibm.com/cloud/blog/security-at-the...   \n",
      "41  https://www.ibm.com/cloud/blog/security-at-the...   \n",
      "42  https://www.ibm.com/cloud/blog/analytics-at-th...   \n",
      "43  https://www.ibm.com/cloud/blog/analytics-at-th...   \n",
      "44  https://www.ibm.com/cloud/blog/analytics-at-th...   \n",
      "45  https://www.ibm.com/cloud/blog/analytics-at-th...   \n",
      "46  https://www.ibm.com/cloud/blog/analytics-at-th...   \n",
      "47  https://www.ibm.com/cloud/blog/analytics-at-th...   \n",
      "48  https://www.ibm.com/cloud/blog/analytics-at-th...   \n",
      "49      https://www.ibm.com/cloud/blog/5g-at-the-edge   \n",
      "\n",
      "                                    1         2  \n",
      "0            technology and computing  0.869217  \n",
      "1            technology and computing  0.823215  \n",
      "2                 internet technology  0.823215  \n",
      "3            technology and computing  0.808410  \n",
      "4                          networking  0.808410  \n",
      "5   network monitoring and management  0.808410  \n",
      "6            technology and computing  0.834985  \n",
      "7                            hardware  0.834985  \n",
      "8            technology and computing  0.786255  \n",
      "9                   operating systems  0.786255  \n",
      "10           technology and computing  0.783145  \n",
      "11                         networking  0.783145  \n",
      "12  network monitoring and management  0.783145  \n",
      "13           technology and computing  0.960884  \n",
      "14                           hardware  0.960884  \n",
      "15           technology and computing  0.953606  \n",
      "16                  operating systems  0.953606  \n",
      "17           technology and computing  0.939843  \n",
      "18                           hardware  0.939843  \n",
      "19                           computer  0.939843  \n",
      "20           technology and computing  0.991880  \n",
      "21                           hardware  0.991880  \n",
      "22           technology and computing  0.984458  \n",
      "23                  operating systems  0.984458  \n",
      "24           technology and computing  0.920949  \n",
      "25                           hardware  0.920949  \n",
      "26                           computer  0.920949  \n",
      "27           technology and computing  0.987811  \n",
      "28                           hardware  0.987811  \n",
      "29           technology and computing  0.971352  \n",
      "30                  operating systems  0.971352  \n",
      "31           technology and computing  0.950761  \n",
      "32                           hardware  0.950761  \n",
      "33               computer peripherals  0.950761  \n",
      "34           technology and computing  0.956940  \n",
      "35                  computer security  0.956940  \n",
      "36                   network security  0.956940  \n",
      "37           technology and computing  0.912590  \n",
      "38                  operating systems  0.912590  \n",
      "39           technology and computing  0.848695  \n",
      "40                         networking  0.848695  \n",
      "41  network monitoring and management  0.848695  \n",
      "42           technology and computing  0.824822  \n",
      "43           technology and computing  0.821715  \n",
      "44                           hardware  0.821715  \n",
      "45                computer components  0.821715  \n",
      "46           technology and computing  0.792951  \n",
      "47                           hardware  0.792951  \n",
      "48                           computer  0.792951  \n",
      "49           technology and computing  0.973927  \n"
     ]
    }
   ],
   "source": [
    "rows = []\n",
    "for _, row in c_df.iterrows():\n",
    "    #print(row['Label'])\n",
    "    cats = row['Label'].split('/')\n",
    "    cats = list(filter(None, cats))\n",
    "    \n",
    "    for c in cats:\n",
    "        tpl = create_tpl(row['URL'], c, row['Score'])\n",
    "        rows.append(tpl)\n",
    "\n",
    "#print(rows)\n",
    "cat_df = pd.DataFrame(rows)\n",
    "print(cat_df.shape)\n",
    "print(cat_df.head())"
   ]
  },
  {
   "cell_type": "code",
   "execution_count": 20,
   "id": "c63ddace",
   "metadata": {},
   "outputs": [
    {
     "name": "stdout",
     "output_type": "stream",
     "text": [
      "['automation', 'business and industrial', 'business operations', 'business process', 'business software', 'computer', 'computer components', 'computer networking', 'computer peripherals', 'computer security', 'databases', 'email', 'hardware', 'internet technology', 'management', 'network monitoring and management', 'network security', 'networking', 'operating systems', 'servers', 'software', 'technology and computing', 'unix', 'wireless technology']\n"
     ]
    }
   ],
   "source": [
    "#create node list from a tuple\n",
    "#tuple:ordered collection of objects\n",
    "\n",
    "#category node list\n",
    "c_nodes = get_unique(cat_df[1])\n",
    "print(c_nodes)\n",
    "#type(c_nodes)"
   ]
  },
  {
   "cell_type": "code",
   "execution_count": 21,
   "id": "7eb27b69",
   "metadata": {
    "scrolled": true
   },
   "outputs": [
    {
     "name": "stdout",
     "output_type": "stream",
     "text": [
      "Dictionary size: 24\n",
      "{'automation': Node(':Category', label='automation', name='automation'), 'business and industrial': Node(':Category', label='business and industrial', name='business and industrial'), 'business operations': Node(':Category', label='business operations', name='business operations'), 'business process': Node(':Category', label='business process', name='business process'), 'business software': Node(':Category', label='business software', name='business software'), 'computer': Node(':Category', label='computer', name='computer'), 'computer components': Node(':Category', label='computer components', name='computer components'), 'computer networking': Node(':Category', label='computer networking', name='computer networking'), 'computer peripherals': Node(':Category', label='computer peripherals', name='computer peripherals'), 'computer security': Node(':Category', label='computer security', name='computer security'), 'databases': Node(':Category', label='databases', name='databases'), 'email': Node(':Category', label='email', name='email'), 'hardware': Node(':Category', label='hardware', name='hardware'), 'internet technology': Node(':Category', label='internet technology', name='internet technology'), 'management': Node(':Category', label='management', name='management'), 'network monitoring and management': Node(':Category', label='network monitoring and management', name='network monitoring and management'), 'network security': Node(':Category', label='network security', name='network security'), 'networking': Node(':Category', label='networking', name='networking'), 'operating systems': Node(':Category', label='operating systems', name='operating systems'), 'servers': Node(':Category', label='servers', name='servers'), 'software': Node(':Category', label='software', name='software'), 'technology and computing': Node(':Category', label='technology and computing', name='technology and computing'), 'unix': Node(':Category', label='unix', name='unix'), 'wireless technology': Node(':Category', label='wireless technology', name='wireless technology')}\n"
     ]
    }
   ],
   "source": [
    "#Create a dictionary of categorry ID nodes with p_nodes list\n",
    "d_nodes =()\n",
    "def _node(category:str) -> Node:\n",
    "    return Node(\":Category\",  name=category , label = category\n",
    "    )\n",
    "\n",
    "d_nodes = dict((key, _node(key)) for (key) in c_nodes) \n",
    "print(\"Dictionary size: \" + str(len(d_nodes)) )\n",
    "print(d_nodes)"
   ]
  },
  {
   "cell_type": "code",
   "execution_count": 22,
   "id": "30f10df3",
   "metadata": {},
   "outputs": [
    {
     "name": "stdout",
     "output_type": "stream",
     "text": [
      "Neo4j nodes created\n"
     ]
    }
   ],
   "source": [
    "#Create category nodes\n",
    "tx = neog.begin()\n",
    "createNodes(d_nodes)\n",
    "neog.commit(tx) "
   ]
  },
  {
   "cell_type": "code",
   "execution_count": 23,
   "id": "385391d9",
   "metadata": {},
   "outputs": [
    {
     "name": "stdout",
     "output_type": "stream",
     "text": [
      " COUNT(n) \r\n",
      "----------\r\n",
      "       45 \r\n",
      "\n"
     ]
    }
   ],
   "source": [
    "countNodes()"
   ]
  },
  {
   "cell_type": "code",
   "execution_count": null,
   "id": "5d08cb36",
   "metadata": {},
   "outputs": [],
   "source": []
  },
  {
   "cell_type": "code",
   "execution_count": null,
   "id": "79dd7d79",
   "metadata": {},
   "outputs": [],
   "source": [
    "#Create URL -has-a-> Category relationships"
   ]
  },
  {
   "cell_type": "code",
   "execution_count": 24,
   "id": "13100c38",
   "metadata": {},
   "outputs": [
    {
     "name": "stdout",
     "output_type": "stream",
     "text": [
      "[['https://www.ibm.com/cloud/blog/cloud-at-the-edge', 'HAS-A', 'technology and computing'], ['https://www.ibm.com/cloud/blog/cloud-at-the-edge', 'HAS-A', 'internet technology'], ['https://www.ibm.com/cloud/blog/cloud-at-the-edge', 'HAS-A', 'network monitoring and management'], ['https://www.ibm.com/cloud/blog/rounding-out-the-edges', 'HAS-A', 'hardware'], ['https://www.ibm.com/cloud/blog/rounding-out-the-edges', 'HAS-A', 'operating systems'], ['https://www.ibm.com/cloud/blog/rounding-out-the-edges', 'HAS-A', 'network monitoring and management'], ['https://www.ibm.com/cloud/blog/architecting-at-the-edge', 'HAS-A', 'hardware'], ['https://www.ibm.com/cloud/blog/architecting-at-the-edge', 'HAS-A', 'operating systems'], ['https://www.ibm.com/cloud/blog/architecting-at-the-edge', 'HAS-A', 'computer'], ['https://www.ibm.com/cloud/blog/devops-at-the-edge', 'HAS-A', 'hardware'], ['https://www.ibm.com/cloud/blog/devops-at-the-edge', 'HAS-A', 'operating systems'], ['https://www.ibm.com/cloud/blog/devops-at-the-edge', 'HAS-A', 'computer'], ['https://www.ibm.com/cloud/blog/policies-at-the-edge', 'HAS-A', 'hardware'], ['https://www.ibm.com/cloud/blog/policies-at-the-edge', 'HAS-A', 'operating systems'], ['https://www.ibm.com/cloud/blog/policies-at-the-edge', 'HAS-A', 'computer peripherals'], ['https://www.ibm.com/cloud/blog/security-at-the-edge', 'HAS-A', 'network security'], ['https://www.ibm.com/cloud/blog/security-at-the-edge', 'HAS-A', 'operating systems'], ['https://www.ibm.com/cloud/blog/security-at-the-edge', 'HAS-A', 'network monitoring and management'], ['https://www.ibm.com/cloud/blog/analytics-at-the-edge', 'HAS-A', 'technology and computing'], ['https://www.ibm.com/cloud/blog/analytics-at-the-edge', 'HAS-A', 'computer components'], ['https://www.ibm.com/cloud/blog/analytics-at-the-edge', 'HAS-A', 'computer'], ['https://www.ibm.com/cloud/blog/5g-at-the-edge', 'HAS-A', 'network monitoring and management'], ['https://www.ibm.com/cloud/blog/5g-at-the-edge', 'HAS-A', 'wireless technology'], ['https://www.ibm.com/cloud/blog/5g-at-the-edge', 'HAS-A', 'internet technology'], ['https://www.ibm.com/cloud/blog/clusters-at-the-edge', 'HAS-A', 'operating systems'], ['https://www.ibm.com/cloud/blog/clusters-at-the-edge', 'HAS-A', 'network monitoring and management'], ['https://www.ibm.com/cloud/blog/clusters-at-the-edge', 'HAS-A', 'hardware'], ['https://www.ibm.com/cloud/blog/automation-at-the-edge', 'HAS-A', 'network monitoring and management'], ['https://www.ibm.com/cloud/blog/automation-at-the-edge', 'HAS-A', 'computer components'], ['https://www.ibm.com/cloud/blog/automation-at-the-edge', 'HAS-A', 'automation'], ['https://www.ibm.com/cloud/blog/network-slicing-at-the-edge', 'HAS-A', 'network monitoring and management'], ['https://www.ibm.com/cloud/blog/network-slicing-at-the-edge', 'HAS-A', 'hardware'], ['https://www.ibm.com/cloud/blog/network-slicing-at-the-edge', 'HAS-A', 'operating systems'], ['https://www.ibm.com/cloud/blog/data-at-the-edge', 'HAS-A', 'databases'], ['https://www.ibm.com/cloud/blog/architectural-decisions-at-the-edge', 'HAS-A', 'networking'], ['https://www.ibm.com/cloud/blog/architectural-decisions-at-the-edge', 'HAS-A', 'network monitoring and management'], ['https://www.ibm.com/cloud/blog/architectural-decisions-at-the-edge', 'HAS-A', 'wireless technology'], ['https://www.ibm.com/cloud/blog/gitops-at-the-edge', 'HAS-A', 'operating systems'], ['https://www.ibm.com/cloud/blog/gitops-at-the-edge', 'HAS-A', 'business software'], ['https://www.ibm.com/cloud/blog/gitops-at-the-edge', 'HAS-A', 'software'], ['https://www.ibm.com/cloud/blog/cloud-services-at-the-edge', 'HAS-A', 'operating systems'], ['https://www.ibm.com/cloud/blog/cloud-services-at-the-edge', 'HAS-A', 'hardware'], ['https://www.ibm.com/cloud/blog/cloud-services-at-the-edge', 'HAS-A', 'computer'], ['https://www.ibm.com/cloud/blog/how-to-integrate-ibm-cloud-code-engine-with-ibm-git', 'HAS-A', 'operating systems'], ['https://www.ibm.com/cloud/blog/how-to-integrate-ibm-cloud-code-engine-with-ibm-git', 'HAS-A', 'servers'], ['https://www.ibm.com/cloud/blog/how-to-integrate-ibm-cloud-code-engine-with-ibm-git', 'HAS-A', 'unix'], ['https://www.ibm.com/cloud/blog/bandwidth-allocation-in-virtual-server-instances', 'HAS-A', 'operating systems'], ['https://www.ibm.com/cloud/blog/bandwidth-allocation-in-virtual-server-instances', 'HAS-A', 'hardware'], ['https://www.ibm.com/cloud/blog/bandwidth-allocation-in-virtual-server-instances', 'HAS-A', 'computer components'], ['https://www.ibm.com/cloud/blog/using-instance-metadata-and-trusted-profiles-for-managing-ssh-keys', 'HAS-A', 'operating systems'], ['https://www.ibm.com/cloud/blog/using-instance-metadata-and-trusted-profiles-for-managing-ssh-keys', 'HAS-A', 'servers'], ['https://www.ibm.com/cloud/blog/using-instance-metadata-and-trusted-profiles-for-managing-ssh-keys', 'HAS-A', 'email'], ['https://www.ibm.com/cloud/blog/bpmn', 'HAS-A', 'business process'], ['https://www.ibm.com/cloud/blog/bpmn', 'HAS-A', 'business software'], ['https://www.ibm.com/cloud/blog/bpmn', 'HAS-A', 'software'], ['https://www.ibm.com/cloud/blog/truck-tracker-an-iot-pattern-using-ibm-cloud-services', 'HAS-A', 'operating systems'], ['https://www.ibm.com/cloud/blog/truck-tracker-an-iot-pattern-using-ibm-cloud-services', 'HAS-A', 'databases'], ['https://www.ibm.com/cloud/blog/truck-tracker-an-iot-pattern-using-ibm-cloud-services', 'HAS-A', 'servers'], ['https://www.ibm.com/cloud/blog/optical-character-recognition', 'HAS-A', 'computer'], ['https://www.ibm.com/cloud/blog/optical-character-recognition', 'HAS-A', 'software'], ['https://www.ibm.com/cloud/blog/optical-character-recognition', 'HAS-A', 'computer components']]\n",
      "(61, 3)\n",
      "                                                   0      1  \\\n",
      "0   https://www.ibm.com/cloud/blog/cloud-at-the-edge  HAS-A   \n",
      "1   https://www.ibm.com/cloud/blog/cloud-at-the-edge  HAS-A   \n",
      "2   https://www.ibm.com/cloud/blog/cloud-at-the-edge  HAS-A   \n",
      "3  https://www.ibm.com/cloud/blog/rounding-out-th...  HAS-A   \n",
      "4  https://www.ibm.com/cloud/blog/rounding-out-th...  HAS-A   \n",
      "\n",
      "                                   2  \n",
      "0           technology and computing  \n",
      "1                internet technology  \n",
      "2  network monitoring and management  \n",
      "3                           hardware  \n",
      "4                  operating systems  \n"
     ]
    }
   ],
   "source": [
    "rows=[]\n",
    "\n",
    "for _, row in c_df.iterrows():\n",
    "    #print(row['URL'])\n",
    "    #print(row['Label'])\n",
    "    cats = row['Label'].split('/')\n",
    "    cats = list(filter(None, cats))\n",
    "    #print(cats)\n",
    "    #print(cats[-1])\n",
    "    tpl = create_tpl(row['URL'], 'HAS-A', cats[-1])\n",
    "    rows.append(tpl)\n",
    "\n",
    "\n",
    "print(rows)\n",
    "has_df = pd.DataFrame(rows)\n",
    "print(has_df.shape)\n",
    "print(has_df.head())"
   ]
  },
  {
   "cell_type": "code",
   "execution_count": 25,
   "id": "2fbe296b",
   "metadata": {},
   "outputs": [
    {
     "name": "stdout",
     "output_type": "stream",
     "text": [
      "                                                 URL Relationship  \\\n",
      "0   https://www.ibm.com/cloud/blog/cloud-at-the-edge        HAS-A   \n",
      "1   https://www.ibm.com/cloud/blog/cloud-at-the-edge        HAS-A   \n",
      "2   https://www.ibm.com/cloud/blog/cloud-at-the-edge        HAS-A   \n",
      "3  https://www.ibm.com/cloud/blog/rounding-out-th...        HAS-A   \n",
      "4  https://www.ibm.com/cloud/blog/rounding-out-th...        HAS-A   \n",
      "\n",
      "                            Category  \n",
      "0           technology and computing  \n",
      "1                internet technology  \n",
      "2  network monitoring and management  \n",
      "3                           hardware  \n",
      "4                  operating systems  \n",
      "(61, 3)\n"
     ]
    }
   ],
   "source": [
    "has_df.rename(columns={0: 'URL', 1: 'Relationship', 2: 'Category'}, inplace=True )\n",
    "print(has_df.head())\n",
    "print(has_df.shape)"
   ]
  },
  {
   "cell_type": "code",
   "execution_count": 26,
   "id": "48ed1ded",
   "metadata": {},
   "outputs": [
    {
     "name": "stdout",
     "output_type": "stream",
     "text": [
      "                                                 URL Relationship  \\\n",
      "0   https://www.ibm.com/cloud/blog/cloud-at-the-edge        HAS-A   \n",
      "1   https://www.ibm.com/cloud/blog/cloud-at-the-edge        HAS-A   \n",
      "2   https://www.ibm.com/cloud/blog/cloud-at-the-edge        HAS-A   \n",
      "3  https://www.ibm.com/cloud/blog/rounding-out-th...        HAS-A   \n",
      "4  https://www.ibm.com/cloud/blog/rounding-out-th...        HAS-A   \n",
      "\n",
      "                            Category  \n",
      "0           technology and computing  \n",
      "1                internet technology  \n",
      "2  network monitoring and management  \n",
      "3                           hardware  \n",
      "4                  operating systems  \n",
      "(61, 3)\n"
     ]
    }
   ],
   "source": [
    "#If we need to remove duplicates\n",
    "\n",
    "\n",
    "#category1_df = has_df.drop_duplicates(\n",
    "# subset = ['URL', 'Relationship', 'Category'],\n",
    "#  keep = 'last').reset_index(drop = True)\n",
    "  \n",
    "# print latest dataframe\n",
    "#print(category1_df.head())\n",
    "#print(category1_df.shape)"
   ]
  },
  {
   "cell_type": "code",
   "execution_count": 27,
   "id": "7b09a3e3",
   "metadata": {},
   "outputs": [
    {
     "name": "stdout",
     "output_type": "stream",
     "text": [
      "URL-relationship-Category completed\n"
     ]
    }
   ],
   "source": [
    "tx = neog.begin()\n",
    "\n",
    "for _, row in has_df.iterrows():\n",
    "    node = \"MATCH(a:`:Article`) WHERE a.link='\" + row[0] + \"' return a\"\n",
    "    a_node  =  neog.evaluate(node)\n",
    "    node = \"MATCH(c:`:Category`) WHERE c.label='\" + row[2] + \"' return c\"\n",
    "    c_node  =  neog.evaluate(node)\n",
    "    tx.create(Relationship(a_node, row[1], c_node))\n",
    "\n",
    "print(\"URL-relationship-Category completed\")\n",
    "\n",
    "neog.commit(tx)"
   ]
  },
  {
   "cell_type": "code",
   "execution_count": null,
   "id": "cc2c5c61",
   "metadata": {},
   "outputs": [],
   "source": []
  },
  {
   "cell_type": "code",
   "execution_count": null,
   "id": "0adefb51",
   "metadata": {},
   "outputs": [],
   "source": [
    "#Create category-has-a->category relationships"
   ]
  },
  {
   "cell_type": "code",
   "execution_count": 28,
   "id": "28fa87e3",
   "metadata": {},
   "outputs": [
    {
     "name": "stdout",
     "output_type": "stream",
     "text": [
      "(88, 3)\n",
      "                          0      1                                  2\n",
      "0  technology and computing  HAS-A                internet technology\n",
      "1  technology and computing  HAS-A                         networking\n",
      "2                networking  HAS-A  network monitoring and management\n",
      "3  technology and computing  HAS-A                           hardware\n",
      "4  technology and computing  HAS-A                  operating systems\n"
     ]
    }
   ],
   "source": [
    "rows=[]\n",
    "\n",
    "for _, row in c_df.iterrows():\n",
    "    #print(row['URL'])\n",
    "    #print(row['Label'])\n",
    "    cats = row['Label'].split('/')\n",
    "    cats = list(filter(None, cats))\n",
    "    #print('\\nrow: ', cats)\n",
    "    #print(type(cats))\n",
    "    for c in cats:\n",
    "        if (len(cats) >= 2):\n",
    "            tpl = create_tpl(cats[0], 'HAS-A', cats[1])\n",
    "            rows.append(tpl)\n",
    "            cats.pop(0)\n",
    "\n",
    "ontology_df = pd.DataFrame(rows)\n",
    "print(ontology_df.shape)\n",
    "print(ontology_df.head())"
   ]
  },
  {
   "cell_type": "code",
   "execution_count": 29,
   "id": "5fb9a3dc",
   "metadata": {},
   "outputs": [
    {
     "name": "stdout",
     "output_type": "stream",
     "text": [
      "                   Category Relationship                           Category\n",
      "0  technology and computing        HAS-A                internet technology\n",
      "1  technology and computing        HAS-A                         networking\n",
      "2                networking        HAS-A  network monitoring and management\n",
      "3  technology and computing        HAS-A                           hardware\n",
      "4  technology and computing        HAS-A                  operating systems\n",
      "(88, 3)\n"
     ]
    }
   ],
   "source": [
    "\n",
    "ontology_df.rename(columns={0: 'Category', 1: 'Relationship', 2: 'Category'}, inplace=True )\n",
    "print(ontology_df.head())\n",
    "print(ontology_df.shape)"
   ]
  },
  {
   "cell_type": "code",
   "execution_count": 30,
   "id": "fd450f79",
   "metadata": {},
   "outputs": [
    {
     "name": "stdout",
     "output_type": "stream",
     "text": [
      "                   Category Relationship              Category\n",
      "0                  hardware        HAS-A  computer peripherals\n",
      "1  technology and computing        HAS-A     computer security\n",
      "2         computer security        HAS-A      network security\n",
      "3   business and industrial        HAS-A            automation\n",
      "4  technology and computing        HAS-A            networking\n",
      "(19, 3)\n"
     ]
    }
   ],
   "source": [
    "new_df = ontology_df.drop_duplicates(\n",
    "  subset = ['Category', 'Relationship', 'Category'],\n",
    "  keep = 'last').reset_index(drop = True)\n",
    "  \n",
    "# print latest dataframe\n",
    "print(new_df.head())\n",
    "print(new_df.shape)"
   ]
  },
  {
   "cell_type": "code",
   "execution_count": 34,
   "id": "15d2c5e6",
   "metadata": {},
   "outputs": [
    {
     "name": "stdout",
     "output_type": "stream",
     "text": [
      "Category-relationship-Category completed\n"
     ]
    }
   ],
   "source": [
    "tx = neog.begin()\n",
    "\n",
    "for _, row in new_df.iterrows():\n",
    "    node = \"MATCH(c:`:Category`) WHERE c.label='\" + row[0] + \"' return c\"\n",
    "    a_node  =  neog.evaluate(node)\n",
    "    node = \"MATCH(c:`:Category`) WHERE c.label='\" + row[2] + \"' return c\"\n",
    "    b_node  =  neog.evaluate(node)\n",
    "    tx.create(Relationship(a_node, row[1], b_node))\n",
    "\n",
    "print(\"Category-relationship-Category completed\")\n",
    "\n",
    "neog.commit(tx)"
   ]
  },
  {
   "cell_type": "code",
   "execution_count": 35,
   "id": "7e9365c9",
   "metadata": {},
   "outputs": [
    {
     "name": "stdout",
     "output_type": "stream",
     "text": [
      " COUNT(n) \r\n",
      "----------\r\n",
      "       45 \r\n",
      "\n"
     ]
    }
   ],
   "source": [
    "countNodes()"
   ]
  },
  {
   "cell_type": "code",
   "execution_count": 36,
   "id": "0a92f782",
   "metadata": {},
   "outputs": [],
   "source": [
    "#open GDSL playground\n",
    "#pagerank\n",
    "#lovain"
   ]
  }
 ],
 "metadata": {
  "kernelspec": {
   "display_name": "Python 3 (ipykernel)",
   "language": "python",
   "name": "python3"
  },
  "language_info": {
   "codemirror_mode": {
    "name": "ipython",
    "version": 3
   },
   "file_extension": ".py",
   "mimetype": "text/x-python",
   "name": "python",
   "nbconvert_exporter": "python",
   "pygments_lexer": "ipython3",
   "version": "3.9.7"
  }
 },
 "nbformat": 4,
 "nbformat_minor": 5
}
